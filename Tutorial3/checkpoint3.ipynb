{
 "cells": [
  {
   "cell_type": "markdown",
   "metadata": {},
   "source": [
    "<h1> The Challenge:</h1>\n",
    "\n",
    "Based off this dataset with school financial, enrollment, and achievement data, we are interested in what information is a useful indicator of student performance at the state level.\n",
    "\n",
    "This question is a bit too big for a checkpoint, however. Instead, we want you to look at smaller questions related to our overall goal. Here's the overview:\n",
    "\n",
    "1. Choose a specific test to focus on\n",
    ">Math/Reading for 4/8 grade\n",
    "* Pick or create features to use\n",
    ">Will all the features be useful in predicting test score? Are some more important than others? Should you standardize, bin, or scale the data?\n",
    "* Explore the data as it relates to that test\n",
    ">Create 2 well-labeled visualizations (graphs), each with a caption describing the graph and what it tells us about the data\n",
    "* Create training and testing data\n",
    ">Do you want to train on all the data? Only data from the last 10 years? Only Michigan data?\n",
    "* Train a ML model to predict outcome \n",
    ">Pick if you want to do a regression or classification task. For both cases, defined _exactly_ what you want to predict, and pick any model in sklearn to use (see sklearn <a href=\"https://scikit-learn.org/stable/modules/linear_model.html\">regressors</a> and <a href=\"https://scikit-learn.org/stable/auto_examples/classification/plot_classifier_comparison.html\">classifiers</a>).\n",
    "* Summarize your findings\n",
    ">Write a 1 paragraph summary of what you did and make a recommendation about if and how student performance can be predicted\n",
    "\n",
    "** Include comments throughout your code! Every cleanup and preprocessing task should be documented.\n",
    "\n",
    "\n",
    "Of course, if you're finding this assignment interesting (and we really hope you do!), you are welcome to do more than the requirements! For example, you may want to see if expenditure affects 4th graders more than 8th graders. Maybe you want to look into the extended version of this dataset and see how factors like sex and race are involved. You can include all your work in this notebook when you turn it in -- just always make sure you explain what you did and interpret your results. Good luck!"
   ]
  },
  {
   "cell_type": "code",
   "execution_count": 49,
   "metadata": {
    "ExecuteTime": {
     "end_time": "2020-10-08T21:46:10.580628Z",
     "start_time": "2020-10-08T21:46:10.572903Z"
    }
   },
   "outputs": [],
   "source": [
    "import pandas as pd\n",
    "import numpy as np\n",
    "import matplotlib.pyplot as plt\n",
    "import seaborn as sns\n",
    "import statsmodels.formula.api as smf\n",
    "import statsmodels.api as sm\n",
    "from sklearn.model_selection import train_test_split\n",
    "# feel free to import other libraries! "
   ]
  },
  {
   "cell_type": "code",
   "execution_count": 2,
   "metadata": {
    "ExecuteTime": {
     "end_time": "2020-10-08T21:36:23.842257Z",
     "start_time": "2020-10-08T21:36:23.767307Z"
    }
   },
   "outputs": [],
   "source": [
    "# Reading the Dataset\n",
    "df = pd.read_csv('states_edu.csv')"
   ]
  },
  {
   "cell_type": "markdown",
   "metadata": {},
   "source": [
    "Chosen test: **<hit `Enter` to edit>**"
   ]
  },
  {
   "cell_type": "code",
   "execution_count": 3,
   "metadata": {
    "ExecuteTime": {
     "end_time": "2020-10-08T21:36:24.025154Z",
     "start_time": "2020-10-08T21:36:23.848318Z"
    }
   },
   "outputs": [
    {
     "data": {
      "text/html": [
       "<div>\n",
       "<style scoped>\n",
       "    .dataframe tbody tr th:only-of-type {\n",
       "        vertical-align: middle;\n",
       "    }\n",
       "\n",
       "    .dataframe tbody tr th {\n",
       "        vertical-align: top;\n",
       "    }\n",
       "\n",
       "    .dataframe thead th {\n",
       "        text-align: right;\n",
       "    }\n",
       "</style>\n",
       "<table border=\"1\" class=\"dataframe\">\n",
       "  <thead>\n",
       "    <tr style=\"text-align: right;\">\n",
       "      <th></th>\n",
       "      <th>PRIMARY_KEY</th>\n",
       "      <th>STATE</th>\n",
       "      <th>YEAR</th>\n",
       "      <th>ENROLL</th>\n",
       "      <th>TOTAL_REVENUE</th>\n",
       "      <th>FEDERAL_REVENUE</th>\n",
       "      <th>STATE_REVENUE</th>\n",
       "      <th>LOCAL_REVENUE</th>\n",
       "      <th>TOTAL_EXPENDITURE</th>\n",
       "      <th>INSTRUCTION_EXPENDITURE</th>\n",
       "      <th>...</th>\n",
       "      <th>GRADES_4_G</th>\n",
       "      <th>GRADES_8_G</th>\n",
       "      <th>GRADES_12_G</th>\n",
       "      <th>GRADES_1_8_G</th>\n",
       "      <th>GRADES_9_12_G</th>\n",
       "      <th>GRADES_ALL_G</th>\n",
       "      <th>AVG_MATH_4_SCORE</th>\n",
       "      <th>AVG_MATH_8_SCORE</th>\n",
       "      <th>AVG_READING_4_SCORE</th>\n",
       "      <th>AVG_READING_8_SCORE</th>\n",
       "    </tr>\n",
       "  </thead>\n",
       "  <tbody>\n",
       "    <tr>\n",
       "      <td>0</td>\n",
       "      <td>1992_ALABAMA</td>\n",
       "      <td>ALABAMA</td>\n",
       "      <td>1992</td>\n",
       "      <td>NaN</td>\n",
       "      <td>2678885.0</td>\n",
       "      <td>304177.0</td>\n",
       "      <td>1659028.0</td>\n",
       "      <td>715680.0</td>\n",
       "      <td>2653798.0</td>\n",
       "      <td>1481703.0</td>\n",
       "      <td>...</td>\n",
       "      <td>57948.0</td>\n",
       "      <td>58025.0</td>\n",
       "      <td>41167.0</td>\n",
       "      <td>NaN</td>\n",
       "      <td>NaN</td>\n",
       "      <td>731634.0</td>\n",
       "      <td>208.0</td>\n",
       "      <td>252.0</td>\n",
       "      <td>207.0</td>\n",
       "      <td>NaN</td>\n",
       "    </tr>\n",
       "    <tr>\n",
       "      <td>1</td>\n",
       "      <td>1992_ALASKA</td>\n",
       "      <td>ALASKA</td>\n",
       "      <td>1992</td>\n",
       "      <td>NaN</td>\n",
       "      <td>1049591.0</td>\n",
       "      <td>106780.0</td>\n",
       "      <td>720711.0</td>\n",
       "      <td>222100.0</td>\n",
       "      <td>972488.0</td>\n",
       "      <td>498362.0</td>\n",
       "      <td>...</td>\n",
       "      <td>9748.0</td>\n",
       "      <td>8789.0</td>\n",
       "      <td>6714.0</td>\n",
       "      <td>NaN</td>\n",
       "      <td>NaN</td>\n",
       "      <td>122487.0</td>\n",
       "      <td>NaN</td>\n",
       "      <td>NaN</td>\n",
       "      <td>NaN</td>\n",
       "      <td>NaN</td>\n",
       "    </tr>\n",
       "    <tr>\n",
       "      <td>2</td>\n",
       "      <td>1992_ARIZONA</td>\n",
       "      <td>ARIZONA</td>\n",
       "      <td>1992</td>\n",
       "      <td>NaN</td>\n",
       "      <td>3258079.0</td>\n",
       "      <td>297888.0</td>\n",
       "      <td>1369815.0</td>\n",
       "      <td>1590376.0</td>\n",
       "      <td>3401580.0</td>\n",
       "      <td>1435908.0</td>\n",
       "      <td>...</td>\n",
       "      <td>55433.0</td>\n",
       "      <td>49081.0</td>\n",
       "      <td>37410.0</td>\n",
       "      <td>NaN</td>\n",
       "      <td>NaN</td>\n",
       "      <td>673477.0</td>\n",
       "      <td>215.0</td>\n",
       "      <td>265.0</td>\n",
       "      <td>209.0</td>\n",
       "      <td>NaN</td>\n",
       "    </tr>\n",
       "    <tr>\n",
       "      <td>3</td>\n",
       "      <td>1992_ARKANSAS</td>\n",
       "      <td>ARKANSAS</td>\n",
       "      <td>1992</td>\n",
       "      <td>NaN</td>\n",
       "      <td>1711959.0</td>\n",
       "      <td>178571.0</td>\n",
       "      <td>958785.0</td>\n",
       "      <td>574603.0</td>\n",
       "      <td>1743022.0</td>\n",
       "      <td>964323.0</td>\n",
       "      <td>...</td>\n",
       "      <td>34632.0</td>\n",
       "      <td>36011.0</td>\n",
       "      <td>27651.0</td>\n",
       "      <td>NaN</td>\n",
       "      <td>NaN</td>\n",
       "      <td>441490.0</td>\n",
       "      <td>210.0</td>\n",
       "      <td>256.0</td>\n",
       "      <td>211.0</td>\n",
       "      <td>NaN</td>\n",
       "    </tr>\n",
       "    <tr>\n",
       "      <td>4</td>\n",
       "      <td>1992_CALIFORNIA</td>\n",
       "      <td>CALIFORNIA</td>\n",
       "      <td>1992</td>\n",
       "      <td>NaN</td>\n",
       "      <td>26260025.0</td>\n",
       "      <td>2072470.0</td>\n",
       "      <td>16546514.0</td>\n",
       "      <td>7641041.0</td>\n",
       "      <td>27138832.0</td>\n",
       "      <td>14358922.0</td>\n",
       "      <td>...</td>\n",
       "      <td>418418.0</td>\n",
       "      <td>363296.0</td>\n",
       "      <td>270675.0</td>\n",
       "      <td>NaN</td>\n",
       "      <td>NaN</td>\n",
       "      <td>5254844.0</td>\n",
       "      <td>208.0</td>\n",
       "      <td>261.0</td>\n",
       "      <td>202.0</td>\n",
       "      <td>NaN</td>\n",
       "    </tr>\n",
       "  </tbody>\n",
       "</table>\n",
       "<p>5 rows × 25 columns</p>\n",
       "</div>"
      ],
      "text/plain": [
       "       PRIMARY_KEY       STATE  YEAR  ENROLL  TOTAL_REVENUE  FEDERAL_REVENUE  \\\n",
       "0     1992_ALABAMA     ALABAMA  1992     NaN      2678885.0         304177.0   \n",
       "1      1992_ALASKA      ALASKA  1992     NaN      1049591.0         106780.0   \n",
       "2     1992_ARIZONA     ARIZONA  1992     NaN      3258079.0         297888.0   \n",
       "3    1992_ARKANSAS    ARKANSAS  1992     NaN      1711959.0         178571.0   \n",
       "4  1992_CALIFORNIA  CALIFORNIA  1992     NaN     26260025.0        2072470.0   \n",
       "\n",
       "   STATE_REVENUE  LOCAL_REVENUE  TOTAL_EXPENDITURE  INSTRUCTION_EXPENDITURE  \\\n",
       "0      1659028.0       715680.0          2653798.0                1481703.0   \n",
       "1       720711.0       222100.0           972488.0                 498362.0   \n",
       "2      1369815.0      1590376.0          3401580.0                1435908.0   \n",
       "3       958785.0       574603.0          1743022.0                 964323.0   \n",
       "4     16546514.0      7641041.0         27138832.0               14358922.0   \n",
       "\n",
       "   ...  GRADES_4_G  GRADES_8_G  GRADES_12_G  GRADES_1_8_G  GRADES_9_12_G  \\\n",
       "0  ...     57948.0     58025.0      41167.0           NaN            NaN   \n",
       "1  ...      9748.0      8789.0       6714.0           NaN            NaN   \n",
       "2  ...     55433.0     49081.0      37410.0           NaN            NaN   \n",
       "3  ...     34632.0     36011.0      27651.0           NaN            NaN   \n",
       "4  ...    418418.0    363296.0     270675.0           NaN            NaN   \n",
       "\n",
       "   GRADES_ALL_G  AVG_MATH_4_SCORE  AVG_MATH_8_SCORE  AVG_READING_4_SCORE  \\\n",
       "0      731634.0             208.0             252.0                207.0   \n",
       "1      122487.0               NaN               NaN                  NaN   \n",
       "2      673477.0             215.0             265.0                209.0   \n",
       "3      441490.0             210.0             256.0                211.0   \n",
       "4     5254844.0             208.0             261.0                202.0   \n",
       "\n",
       "   AVG_READING_8_SCORE  \n",
       "0                  NaN  \n",
       "1                  NaN  \n",
       "2                  NaN  \n",
       "3                  NaN  \n",
       "4                  NaN  \n",
       "\n",
       "[5 rows x 25 columns]"
      ]
     },
     "execution_count": 3,
     "metadata": {},
     "output_type": "execute_result"
    }
   ],
   "source": [
    "# Readin the top 5 rows\n",
    "df.head()"
   ]
  },
  {
   "cell_type": "code",
   "execution_count": 4,
   "metadata": {
    "ExecuteTime": {
     "end_time": "2020-10-08T21:36:24.045825Z",
     "start_time": "2020-10-08T21:36:24.031912Z"
    }
   },
   "outputs": [
    {
     "data": {
      "text/plain": [
       "Index(['PRIMARY_KEY', 'STATE', 'YEAR', 'ENROLL', 'TOTAL_REVENUE',\n",
       "       'FEDERAL_REVENUE', 'STATE_REVENUE', 'LOCAL_REVENUE',\n",
       "       'TOTAL_EXPENDITURE', 'INSTRUCTION_EXPENDITURE',\n",
       "       'SUPPORT_SERVICES_EXPENDITURE', 'OTHER_EXPENDITURE',\n",
       "       'CAPITAL_OUTLAY_EXPENDITURE', 'GRADES_PK_G', 'GRADES_KG_G',\n",
       "       'GRADES_4_G', 'GRADES_8_G', 'GRADES_12_G', 'GRADES_1_8_G',\n",
       "       'GRADES_9_12_G', 'GRADES_ALL_G', 'AVG_MATH_4_SCORE', 'AVG_MATH_8_SCORE',\n",
       "       'AVG_READING_4_SCORE', 'AVG_READING_8_SCORE'],\n",
       "      dtype='object')"
      ]
     },
     "execution_count": 4,
     "metadata": {},
     "output_type": "execute_result"
    }
   ],
   "source": [
    "# Looking at teh column names\n",
    "df.columns"
   ]
  },
  {
   "cell_type": "markdown",
   "metadata": {},
   "source": [
    "<h2> Cleanup (optional)</h2>\n",
    "\n",
    "_Use this space to rename columns, deal with missing data, etc._"
   ]
  },
  {
   "cell_type": "code",
   "execution_count": 5,
   "metadata": {
    "ExecuteTime": {
     "end_time": "2020-10-08T21:36:24.068460Z",
     "start_time": "2020-10-08T21:36:24.051342Z"
    }
   },
   "outputs": [
    {
     "data": {
      "text/plain": [
       "PRIMARY_KEY                        0\n",
       "STATE                              0\n",
       "YEAR                               0\n",
       "ENROLL                           491\n",
       "TOTAL_REVENUE                    440\n",
       "FEDERAL_REVENUE                  440\n",
       "STATE_REVENUE                    440\n",
       "LOCAL_REVENUE                    440\n",
       "TOTAL_EXPENDITURE                440\n",
       "INSTRUCTION_EXPENDITURE          440\n",
       "SUPPORT_SERVICES_EXPENDITURE     440\n",
       "OTHER_EXPENDITURE                491\n",
       "CAPITAL_OUTLAY_EXPENDITURE       440\n",
       "GRADES_PK_G                      173\n",
       "GRADES_KG_G                       83\n",
       "GRADES_4_G                        83\n",
       "GRADES_8_G                        83\n",
       "GRADES_12_G                       83\n",
       "GRADES_1_8_G                     695\n",
       "GRADES_9_12_G                    644\n",
       "GRADES_ALL_G                      83\n",
       "AVG_MATH_4_SCORE                1150\n",
       "AVG_MATH_8_SCORE                1113\n",
       "AVG_READING_4_SCORE             1065\n",
       "AVG_READING_8_SCORE             1153\n",
       "dtype: int64"
      ]
     },
     "execution_count": 5,
     "metadata": {},
     "output_type": "execute_result"
    }
   ],
   "source": [
    "# Checking the total Null values per Column\n",
    "df.isnull().sum()"
   ]
  },
  {
   "cell_type": "code",
   "execution_count": 6,
   "metadata": {
    "ExecuteTime": {
     "end_time": "2020-10-08T21:36:24.087432Z",
     "start_time": "2020-10-08T21:36:24.074210Z"
    }
   },
   "outputs": [],
   "source": [
    "# REnaming the Columns for better understanding\n",
    "df.rename({\n",
    "    'GRADES_PK_G':'ENROLL_PREK',\n",
    "    'GRADES_KG_G':'ENROLL_KINDER',\n",
    "    'GRADES_4_G':'ENROLL_4',\n",
    "    'GRADES_8_G':'ENROLL_8',\n",
    "    'GRADES_12_G':'ENROLL_12',\n",
    "    'GRADES_1_8_G':'ENROLL_PRIMARY',\n",
    "    'GRADES_9_12_G':'ENROLL_HS',\n",
    "    'GRADES_ALL_G':'ENROLL_ALL',\n",
    "    'ENROLL':'ENROLL_ALL_EST'\n",
    "    },\n",
    "    axis=1,inplace=True)"
   ]
  },
  {
   "cell_type": "code",
   "execution_count": 7,
   "metadata": {
    "ExecuteTime": {
     "end_time": "2020-10-08T21:36:24.117452Z",
     "start_time": "2020-10-08T21:36:24.094211Z"
    }
   },
   "outputs": [],
   "source": [
    "# Dropping the Rows which have Null Average MAth 8 score\n",
    "df.dropna(subset=['AVG_MATH_8_SCORE'], inplace=True)"
   ]
  },
  {
   "cell_type": "code",
   "execution_count": 8,
   "metadata": {
    "ExecuteTime": {
     "end_time": "2020-10-08T21:36:24.141329Z",
     "start_time": "2020-10-08T21:36:24.127557Z"
    }
   },
   "outputs": [
    {
     "data": {
      "text/plain": [
       "74"
      ]
     },
     "execution_count": 8,
     "metadata": {},
     "output_type": "execute_result"
    }
   ],
   "source": [
    "# Looking at the Enroll All sum\n",
    "df.ENROLL_ALL.isnull().sum()"
   ]
  },
  {
   "cell_type": "code",
   "execution_count": 9,
   "metadata": {
    "ExecuteTime": {
     "end_time": "2020-10-08T21:36:24.162271Z",
     "start_time": "2020-10-08T21:36:24.149389Z"
    }
   },
   "outputs": [
    {
     "data": {
      "text/plain": [
       "205"
      ]
     },
     "execution_count": 9,
     "metadata": {},
     "output_type": "execute_result"
    }
   ],
   "source": [
    "# Looking at the sum of Enroll All estimated sum\n",
    "df.ENROLL_ALL_EST.isnull().sum()"
   ]
  },
  {
   "cell_type": "code",
   "execution_count": 10,
   "metadata": {
    "ExecuteTime": {
     "end_time": "2020-10-08T21:36:24.217470Z",
     "start_time": "2020-10-08T21:36:24.168134Z"
    }
   },
   "outputs": [
    {
     "data": {
      "text/plain": [
       "count    397.000000\n",
       "mean       0.025946\n",
       "std        0.051301\n",
       "min       -0.096404\n",
       "25%        0.003988\n",
       "50%        0.013523\n",
       "75%        0.031392\n",
       "max        0.450693\n",
       "dtype: float64"
      ]
     },
     "execution_count": 10,
     "metadata": {},
     "output_type": "execute_result"
    }
   ],
   "source": [
    "# Looking if the enrollment are same to the Estimated ones\n",
    "((df.ENROLL_ALL - df.ENROLL_ALL_EST)/df.ENROLL_ALL).describe()"
   ]
  },
  {
   "cell_type": "code",
   "execution_count": 11,
   "metadata": {
    "ExecuteTime": {
     "end_time": "2020-10-08T21:36:24.236227Z",
     "start_time": "2020-10-08T21:36:24.224981Z"
    }
   },
   "outputs": [],
   "source": [
    "# Filling the estimated with enroll data\n",
    "df.ENROLL_ALL_EST = df.ENROLL_ALL_EST.fillna(df.ENROLL_ALL)"
   ]
  },
  {
   "cell_type": "code",
   "execution_count": 12,
   "metadata": {
    "ExecuteTime": {
     "end_time": "2020-10-08T21:36:24.258285Z",
     "start_time": "2020-10-08T21:36:24.242834Z"
    }
   },
   "outputs": [
    {
     "data": {
      "text/plain": [
       "74"
      ]
     },
     "execution_count": 12,
     "metadata": {},
     "output_type": "execute_result"
    }
   ],
   "source": [
    "# Again checking the sum\n",
    "df.ENROLL_ALL_EST.isnull().sum()"
   ]
  },
  {
   "cell_type": "code",
   "execution_count": 13,
   "metadata": {
    "ExecuteTime": {
     "end_time": "2020-10-08T21:36:24.279120Z",
     "start_time": "2020-10-08T21:36:24.264092Z"
    }
   },
   "outputs": [
    {
     "data": {
      "text/plain": [
       "205"
      ]
     },
     "execution_count": 13,
     "metadata": {},
     "output_type": "execute_result"
    }
   ],
   "source": [
    "# Checking at the other expenditure sum\n",
    "df.OTHER_EXPENDITURE.isnull().sum()"
   ]
  },
  {
   "cell_type": "code",
   "execution_count": 14,
   "metadata": {
    "ExecuteTime": {
     "end_time": "2020-10-08T21:36:24.315181Z",
     "start_time": "2020-10-08T21:36:24.285994Z"
    }
   },
   "outputs": [
    {
     "data": {
      "text/plain": [
       "count    397.000000\n",
       "mean       0.041053\n",
       "std        0.032089\n",
       "min        0.000000\n",
       "25%        0.023488\n",
       "50%        0.034620\n",
       "75%        0.051838\n",
       "max        0.250963\n",
       "dtype: float64"
      ]
     },
     "execution_count": 14,
     "metadata": {},
     "output_type": "execute_result"
    }
   ],
   "source": [
    "# Seeing if the Sum on all the expenditures sums up tp total expenditure\n",
    "((df.TOTAL_EXPENDITURE-df.INSTRUCTION_EXPENDITURE-df.SUPPORT_SERVICES_EXPENDITURE-df.OTHER_EXPENDITURE-df.CAPITAL_OUTLAY_EXPENDITURE)/df.TOTAL_EXPENDITURE).describe()"
   ]
  },
  {
   "cell_type": "code",
   "execution_count": 15,
   "metadata": {
    "ExecuteTime": {
     "end_time": "2020-10-08T21:36:24.339316Z",
     "start_time": "2020-10-08T21:36:24.321239Z"
    }
   },
   "outputs": [],
   "source": [
    "# Filling the Other expenditure \n",
    "df.OTHER_EXPENDITURE = df.OTHER_EXPENDITURE.fillna(df.TOTAL_EXPENDITURE-df.INSTRUCTION_EXPENDITURE-df.SUPPORT_SERVICES_EXPENDITURE-df.CAPITAL_OUTLAY_EXPENDITURE)"
   ]
  },
  {
   "cell_type": "code",
   "execution_count": 16,
   "metadata": {
    "ExecuteTime": {
     "end_time": "2020-10-08T21:36:24.360802Z",
     "start_time": "2020-10-08T21:36:24.346337Z"
    }
   },
   "outputs": [
    {
     "data": {
      "text/plain": [
       "163"
      ]
     },
     "execution_count": 16,
     "metadata": {},
     "output_type": "execute_result"
    }
   ],
   "source": [
    "# Checking again the null values in the Other Expenditure\n",
    "df.OTHER_EXPENDITURE.isnull().sum()"
   ]
  },
  {
   "cell_type": "markdown",
   "metadata": {},
   "source": [
    "<h2> Feature Selection </h2>\n",
    "\n",
    "_Use this space to modify or create features_"
   ]
  },
  {
   "cell_type": "code",
   "execution_count": 17,
   "metadata": {
    "ExecuteTime": {
     "end_time": "2020-10-08T21:36:24.426186Z",
     "start_time": "2020-10-08T21:36:24.367046Z"
    }
   },
   "outputs": [],
   "source": [
    "# Generating Normalized values for Revenue and expendditures\n",
    "df['Tot_Rev/stdnt'] = df.TOTAL_REVENUE/df.ENROLL_ALL\n",
    "df['Tot_exp/stdnt'] = df.TOTAL_EXPENDITURE/df.ENROLL_ALL\n",
    "df['enroll8/total'] = df.ENROLL_8/df.ENROLL_ALL\n",
    "df['fedrev/tot'] = df.FEDERAL_REVENUE/df.ENROLL_ALL\n",
    "df['strev/tot'] = df.STATE_REVENUE/df.ENROLL_ALL\n",
    "df['locrev/tot'] = df.LOCAL_REVENUE/df.ENROLL_ALL\n",
    "df['instexp/tot'] = df.INSTRUCTION_EXPENDITURE/df.ENROLL_ALL\n",
    "df['supserexp/tot'] = df.SUPPORT_SERVICES_EXPENDITURE/df.ENROLL_ALL\n",
    "df['othexp/tot'] = df.OTHER_EXPENDITURE/df.ENROLL_ALL\n",
    "df['capexp/tot'] = df.CAPITAL_OUTLAY_EXPENDITURE/df.ENROLL_ALL"
   ]
  },
  {
   "cell_type": "markdown",
   "metadata": {},
   "source": [
    "Final feature list: **'Tot_exp/stdnt', 'enroll8/total', 'supserexp/tot','capexp/tot', 'instexp/tot', 'othexp/tot','YEAR'**"
   ]
  },
  {
   "cell_type": "markdown",
   "metadata": {},
   "source": [
    "Feature selection justification: **After creating the Ordinary least squares regression Model, we can see that these features have a valid p value associated to the model hence selecting the above Model**"
   ]
  },
  {
   "cell_type": "markdown",
   "metadata": {},
   "source": [
    "<h2> EDA </h2>"
   ]
  },
  {
   "cell_type": "markdown",
   "metadata": {},
   "source": [
    "Visualization 1"
   ]
  },
  {
   "cell_type": "code",
   "execution_count": 18,
   "metadata": {
    "ExecuteTime": {
     "end_time": "2020-10-08T21:36:24.954116Z",
     "start_time": "2020-10-08T21:36:24.430900Z"
    }
   },
   "outputs": [
    {
     "data": {
      "image/png": "[encoded data removed]",
      "text/plain": [
       "<Figure size 720x576 with 1 Axes>"
      ]
     },
     "metadata": {
      "needs_background": "light"
     },
     "output_type": "display_data"
    }
   ],
   "source": [
    "# Checking how Total revenue per student behaves with the target Math score\n",
    "plt.figure(figsize = (10,8))\n",
    "sns.scatterplot(x = df['Tot_Rev/stdnt'], y = df.AVG_MATH_8_SCORE)\n",
    "plt.show()"
   ]
  },
  {
   "cell_type": "markdown",
   "metadata": {},
   "source": [
    "**We can see a clear linear trend of the Avg Score with Total Revenus per student and it is incremental**"
   ]
  },
  {
   "cell_type": "markdown",
   "metadata": {},
   "source": [
    "Visualization 2"
   ]
  },
  {
   "cell_type": "code",
   "execution_count": 19,
   "metadata": {
    "ExecuteTime": {
     "end_time": "2020-10-08T21:36:25.398632Z",
     "start_time": "2020-10-08T21:36:24.959414Z"
    }
   },
   "outputs": [
    {
     "data": {
      "image/png": "[encoded data removed]",
      "text/plain": [
       "<Figure size 720x576 with 1 Axes>"
      ]
     },
     "metadata": {
      "needs_background": "light"
     },
     "output_type": "display_data"
    }
   ],
   "source": [
    "# Checking how Total expenditure per student behaves with the target Math score\n",
    "plt.figure(figsize = (10,8))\n",
    "sns.scatterplot(x = df['Tot_exp/stdnt'], y = df.AVG_MATH_8_SCORE)\n",
    "plt.show()"
   ]
  },
  {
   "cell_type": "markdown",
   "metadata": {},
   "source": [
    "**Similarly, WE can see the incremental trend between the score and total expendeture**"
   ]
  },
  {
   "cell_type": "markdown",
   "metadata": {
    "ExecuteTime": {
     "end_time": "2020-10-06T03:45:53.234802Z",
     "start_time": "2020-10-06T03:45:53.224618Z"
    }
   },
   "source": [
    "Visualization 3"
   ]
  },
  {
   "cell_type": "code",
   "execution_count": 20,
   "metadata": {
    "ExecuteTime": {
     "end_time": "2020-10-08T21:36:25.880735Z",
     "start_time": "2020-10-08T21:36:25.403708Z"
    }
   },
   "outputs": [
    {
     "data": {
      "image/png": "[encoded data removed]",
      "text/plain": [
       "<Figure size 720x576 with 1 Axes>"
      ]
     },
     "metadata": {
      "needs_background": "light"
     },
     "output_type": "display_data"
    }
   ],
   "source": [
    "# Checking how year behaves with the target Math score\n",
    "plt.figure(figsize = (10,8))\n",
    "sns.scatterplot(x = df['YEAR'], y = df.AVG_MATH_8_SCORE)\n",
    "plt.show()"
   ]
  },
  {
   "cell_type": "markdown",
   "metadata": {},
   "source": [
    "**We can see a linear trend with year and average scores**"
   ]
  },
  {
   "cell_type": "markdown",
   "metadata": {},
   "source": [
    "Visualization 4"
   ]
  },
  {
   "cell_type": "code",
   "execution_count": 21,
   "metadata": {
    "ExecuteTime": {
     "end_time": "2020-10-08T21:36:26.301280Z",
     "start_time": "2020-10-08T21:36:25.886027Z"
    }
   },
   "outputs": [
    {
     "data": {
      "image/png": "[encoded data removed]",
      "text/plain": [
       "<Figure size 720x576 with 1 Axes>"
      ]
     },
     "metadata": {
      "needs_background": "light"
     },
     "output_type": "display_data"
    }
   ],
   "source": [
    "# Checking how the year behaves with enrollemnt/student\n",
    "plt.figure(figsize = (10,8))\n",
    "sns.scatterplot(y= df['enroll8/total'], x = df.YEAR)\n",
    "plt.show()"
   ]
  },
  {
   "cell_type": "markdown",
   "metadata": {},
   "source": [
    "**There is a trend with the enrollemnt factor and the year, hence we can say both year and the enrollment factor combined can give us a better predection of Average score**"
   ]
  },
  {
   "cell_type": "markdown",
   "metadata": {},
   "source": [
    "<h2> Data Creation </h2>\n",
    "\n",
    "_Use this space to create train/test data_"
   ]
  },
  {
   "cell_type": "code",
   "execution_count": 40,
   "metadata": {
    "ExecuteTime": {
     "end_time": "2020-10-08T21:38:42.790376Z",
     "start_time": "2020-10-08T21:38:42.769076Z"
    }
   },
   "outputs": [],
   "source": [
    "# Creating the Dataset with features generated\n",
    "X = df[['Tot_Rev/stdnt','Tot_exp/stdnt', 'enroll8/total', 'fedrev/tot', 'strev/tot',\n",
    "       'locrev/tot', 'instexp/tot', 'supserexp/tot', 'othexp/tot',\n",
    "       'capexp/tot','YEAR']].dropna()\n",
    "y = df.loc[X.index]['AVG_MATH_8_SCORE']"
   ]
  },
  {
   "cell_type": "code",
   "execution_count": 55,
   "metadata": {
    "ExecuteTime": {
     "end_time": "2020-10-08T21:48:24.657242Z",
     "start_time": "2020-10-08T21:48:24.334794Z"
    }
   },
   "outputs": [
    {
     "name": "stdout",
     "output_type": "stream",
     "text": [
      "Character Variables (Dummies Generated, First Dummies Dropped): []\n",
      "break : Criteria\n",
      "                            OLS Regression Results                            \n",
      "==============================================================================\n",
      "Dep. Variable:       AVG_MATH_8_SCORE   R-squared:                      -0.000\n",
      "Model:                            OLS   Adj. R-squared:                 -0.000\n",
      "Method:                 Least Squares   F-statistic:                      -inf\n",
      "Date:                Thu, 08 Oct 2020   Prob (F-statistic):                nan\n",
      "Time:                        17:48:24   Log-Likelihood:                -1637.0\n",
      "No. Observations:                 439   AIC:                             3276.\n",
      "Df Residuals:                     438   BIC:                             3280.\n",
      "Df Model:                           0                                         \n",
      "Covariance Type:            nonrobust                                         \n",
      "==============================================================================\n",
      "                 coef    std err          t      P>|t|      [0.025      0.975]\n",
      "------------------------------------------------------------------------------\n",
      "intercept    278.6765      0.481    578.904      0.000     277.730     279.623\n",
      "==============================================================================\n",
      "Omnibus:                       71.204   Durbin-Watson:                   1.458\n",
      "Prob(Omnibus):                  0.000   Jarque-Bera (JB):              118.272\n",
      "Skew:                          -0.976   Prob(JB):                     2.08e-26\n",
      "Kurtosis:                       4.629   Cond. No.                         1.00\n",
      "==============================================================================\n",
      "\n",
      "Warnings:\n",
      "[1] Standard Errors assume that the covariance matrix of the errors is correctly specified.\n",
      "AIC: 3276.0295918304723\n",
      "BIC: 3280.1140912435476\n",
      "Final Variables: ['intercept']\n"
     ]
    },
    {
     "name": "stderr",
     "output_type": "stream",
     "text": [
      "/home/adheeth_linux/yes/lib/python3.7/site-packages/statsmodels/regression/linear_model.py:1657: RuntimeWarning: divide by zero encountered in double_scalars\n",
      "  return self.ess/self.df_model\n"
     ]
    }
   ],
   "source": [
    "# Performing forward selection to look at the dominant featurs effecting the average marks\n",
    "forward = forwardSelection(X,y,elimination_criteria='aic')"
   ]
  },
  {
   "cell_type": "code",
   "execution_count": 56,
   "metadata": {
    "ExecuteTime": {
     "end_time": "2020-10-08T21:48:44.494675Z",
     "start_time": "2020-10-08T21:48:44.359891Z"
    }
   },
   "outputs": [
    {
     "name": "stdout",
     "output_type": "stream",
     "text": [
      "Character Variables (Dummies Generated, First Dummies Dropped): []\n",
      "                            OLS Regression Results                            \n",
      "==============================================================================\n",
      "Dep. Variable:       AVG_MATH_8_SCORE   R-squared:                       0.503\n",
      "Model:                            OLS   Adj. R-squared:                  0.495\n",
      "Method:                 Least Squares   F-statistic:                     62.23\n",
      "Date:                Thu, 08 Oct 2020   Prob (F-statistic):           1.62e-61\n",
      "Time:                        17:48:44   Log-Likelihood:                -1483.7\n",
      "No. Observations:                 439   AIC:                             2983.\n",
      "Df Residuals:                     431   BIC:                             3016.\n",
      "Df Model:                           7                                         \n",
      "Covariance Type:            nonrobust                                         \n",
      "=================================================================================\n",
      "                    coef    std err          t      P>|t|      [0.025      0.975]\n",
      "---------------------------------------------------------------------------------\n",
      "intercept      -647.8603     74.359     -8.713      0.000    -794.011    -501.709\n",
      "const          -647.8603     74.359     -8.713      0.000    -794.011    -501.709\n",
      "Tot_exp/stdnt     4.0698      0.765      5.320      0.000       2.566       5.573\n",
      "enroll8/total   529.7702     93.652      5.657      0.000     345.699     713.842\n",
      "fedrev/tot       -5.7123      1.086     -5.261      0.000      -7.846      -3.578\n",
      "instexp/tot      -1.9800      0.922     -2.149      0.032      -3.791      -0.169\n",
      "supserexp/tot    -5.9754      1.131     -5.285      0.000      -8.198      -3.753\n",
      "capexp/tot       -3.1575      0.943     -3.349      0.001      -5.010      -1.305\n",
      "YEAR              0.7624      0.075     10.231      0.000       0.616       0.909\n",
      "==============================================================================\n",
      "Omnibus:                        6.381   Durbin-Watson:                   1.945\n",
      "Prob(Omnibus):                  0.041   Jarque-Bera (JB):                6.513\n",
      "Skew:                          -0.284   Prob(JB):                       0.0385\n",
      "Kurtosis:                       2.815   Cond. No.                     2.24e+18\n",
      "==============================================================================\n",
      "\n",
      "Warnings:\n",
      "[1] Standard Errors assume that the covariance matrix of the errors is correctly specified.\n",
      "[2] The smallest eigenvalue is 3.54e-28. This might indicate that there are\n",
      "strong multicollinearity problems or that the design matrix is singular.\n",
      "AIC: 2983.407703837338\n",
      "BIC: 3016.083699141939\n",
      "Final Variables: ['intercept', 'const', 'Tot_exp/stdnt', 'enroll8/total', 'fedrev/tot', 'instexp/tot', 'supserexp/tot', 'capexp/tot', 'YEAR']\n"
     ]
    }
   ],
   "source": [
    "# Performing Backward selestion to look at the dominant features\n",
    "back = backwardSelection(X,y,elimination_criteria='aic')"
   ]
  },
  {
   "cell_type": "code",
   "execution_count": 39,
   "metadata": {
    "ExecuteTime": {
     "end_time": "2020-10-08T21:38:08.703932Z",
     "start_time": "2020-10-08T21:38:08.615315Z"
    }
   },
   "outputs": [],
   "source": [
    "def forwardSelection(X, y, model_type =\"linear\",elimination_criteria = \"aic\", varchar_process = \"dummy_dropfirst\", sl=0.05):\n",
    "    \"\"\"\n",
    "    Forward Selection is a function, based on regression models, that returns significant features and selection iterations.\\n\n",
    "    Required Libraries: pandas, numpy, statmodels\n",
    "    \n",
    "    Parameters\n",
    "    ----------\n",
    "    X : Independent variables (Pandas Dataframe)\\n\n",
    "    y : Dependent variable (Pandas Series, Pandas Dataframe)\\n\n",
    "    model_type : 'linear' or 'logistic'\\n\n",
    "    elimination_criteria : 'aic', 'bic', 'r2', 'adjr2' or None\\n\n",
    "        'aic' refers Akaike information criterion\\n\n",
    "        'bic' refers Bayesian information criterion\\n\n",
    "        'r2' refers R-squared (Only works on linear model type)\\n\n",
    "        'r2' refers Adjusted R-squared (Only works on linear model type)\\n\n",
    "    varchar_process : 'drop', 'dummy' or 'dummy_dropfirst'\\n\n",
    "        'drop' drops varchar features\\n\n",
    "        'dummy' creates dummies for all levels of all varchars\\n\n",
    "        'dummy_dropfirst' creates dummies for all levels of all varchars, and drops first levels\\n\n",
    "    sl : Significance Level (default: 0.05)\\n\n",
    "    \n",
    "\n",
    "    Returns\n",
    "    -------\n",
    "    columns(list), iteration_logs(str)\\n\\n\n",
    "    Not Returns a Model\n",
    "    \n",
    "\n",
    "    Tested On\n",
    "    ---------\n",
    "    Python v3.6.7, Pandas v0.23.4, Numpy v1.15.04, StatModels v0.9.0\n",
    "    \n",
    "\n",
    "    See Also\n",
    "    --------\n",
    "    https://en.wikipedia.org/wiki/Stepwise_regression\n",
    "    \"\"\"\n",
    "    X = __varcharProcessing__(X,varchar_process = varchar_process)\n",
    "    return __forwardSelectionRaw__(X, y, model_type = model_type,elimination_criteria = elimination_criteria , sl=sl)\n",
    "    \n",
    "def backwardSelection(X, y, model_type =\"linear\",elimination_criteria = \"aic\", varchar_process = \"dummy_dropfirst\", sl=0.05):\n",
    "    \"\"\"\n",
    "    Backward Selection is a function, based on regression models, that returns significant features and selection iterations.\\n\n",
    "    Required Libraries: pandas, numpy, statmodels\n",
    "    \n",
    "    Parameters\n",
    "    ----------\n",
    "    X : Independent variables (Pandas Dataframe)\\n\n",
    "    y : Dependent variable (Pandas Series, Pandas Dataframe)\\n\n",
    "    model_type : 'linear' or 'logistic'\\n\n",
    "    elimination_criteria : 'aic', 'bic', 'r2', 'adjr2' or None\\n\n",
    "        'aic' refers Akaike information criterion\\n\n",
    "        'bic' refers Bayesian information criterion\\n\n",
    "        'r2' refers R-squared (Only works on linear model type)\\n\n",
    "        'r2' refers Adjusted R-squared (Only works on linear model type)\\n\n",
    "    varchar_process : 'drop', 'dummy' or 'dummy_dropfirst'\\n\n",
    "        'drop' drops varchar features\\n\n",
    "        'dummy' creates dummies for all levels of all varchars\\n\n",
    "        'dummy_dropfirst' creates dummies for all levels of all varchars, and drops first levels\\n\n",
    "    sl : Significance Level (default: 0.05)\\n\n",
    "    \n",
    "\n",
    "    Returns\n",
    "    -------\n",
    "    columns(list), iteration_logs(str)\\n\\n\n",
    "    Not Returns a Model\n",
    "    \n",
    "\n",
    "    Tested On\n",
    "    ---------\n",
    "    Python v3.6.7, Pandas v0.23.4, Numpy v1.15.04, StatModels v0.9.0\n",
    "    \n",
    "\n",
    "    See Also\n",
    "    --------\n",
    "    https://en.wikipedia.org/wiki/Stepwise_regression    \n",
    "    \"\"\"\n",
    "    X = __varcharProcessing__(X,varchar_process = varchar_process)\n",
    "    return __backwardSelectionRaw__(X, y, model_type = model_type,elimination_criteria = elimination_criteria , sl=sl)\n",
    "\n",
    "def __varcharProcessing__(X, varchar_process = \"dummy_dropfirst\"):\n",
    "    \n",
    "    dtypes = X.dtypes\n",
    "    if varchar_process == \"drop\":   \n",
    "        X = X.drop(columns = dtypes[dtypes == np.object].index.tolist())\n",
    "        print(\"Character Variables (Dropped):\", dtypes[dtypes == np.object].index.tolist())\n",
    "    elif varchar_process == \"dummy\":\n",
    "        X = pd.get_dummies(X,drop_first=False)\n",
    "        print(\"Character Variables (Dummies Generated):\", dtypes[dtypes == np.object].index.tolist())\n",
    "    elif varchar_process == \"dummy_dropfirst\":\n",
    "        X = pd.get_dummies(X,drop_first=True)\n",
    "        print(\"Character Variables (Dummies Generated, First Dummies Dropped):\", dtypes[dtypes == np.object].index.tolist())\n",
    "    else: \n",
    "        X = pd.get_dummies(X,drop_first=True)\n",
    "        print(\"Character Variables (Dummies Generated, First Dummies Dropped):\", dtypes[dtypes == np.object].index.tolist())\n",
    "    \n",
    "    X[\"intercept\"] = 1\n",
    "    cols = X.columns.tolist()\n",
    "    cols = cols[-1:] + cols[:-1]\n",
    "    X = X[cols]\n",
    "    \n",
    "    return X\n",
    "\n",
    "def __forwardSelectionRaw__(X, y, model_type =\"linear\",elimination_criteria = \"aic\", sl=0.05):\n",
    "\n",
    "    iterations_log = \"\"\n",
    "    cols = X.columns.tolist()\n",
    "    \n",
    "    def regressor(y,X, model_type=model_type):\n",
    "        if model_type == \"linear\":\n",
    "            regressor = sm.OLS(y, X).fit()\n",
    "        elif model_type == \"logistic\":\n",
    "            regressor = sm.Logit(y, X).fit()\n",
    "        else:\n",
    "            print(\"\\nWrong Model Type : \"+ model_type +\"\\nLinear model type is seleted.\")\n",
    "            model_type = \"linear\"\n",
    "            regressor = sm.OLS(y, X).fit()\n",
    "        return regressor\n",
    "    \n",
    "    selected_cols = [\"intercept\"]\n",
    "    other_cols = cols.copy()\n",
    "    other_cols.remove(\"intercept\")\n",
    "    \n",
    "    model = regressor(y, X[selected_cols])\n",
    "    \n",
    "    if elimination_criteria == \"aic\":\n",
    "        criteria = model.aic\n",
    "    elif elimination_criteria == \"bic\":\n",
    "        criteria = model.bic\n",
    "    elif elimination_criteria == \"r2\" and model_type ==\"linear\":\n",
    "        criteria = model.rsquared\n",
    "    elif elimination_criteria == \"adjr2\" and model_type ==\"linear\":\n",
    "        criteria = model.rsquared_adj\n",
    "    \n",
    "    \n",
    "    for i in range(X.shape[1]):\n",
    "        pvals = pd.DataFrame(columns = [\"Cols\",\"Pval\"])\n",
    "        for j in other_cols:\n",
    "            model = regressor(y, X[selected_cols+[j]])\n",
    "            pvals = pvals.append(pd.DataFrame([[j, model.pvalues[j]]],columns = [\"Cols\",\"Pval\"]),ignore_index=True)\n",
    "        pvals = pvals.sort_values(by = [\"Pval\"]).reset_index(drop=True)\n",
    "        pvals = pvals[pvals.Pval<=sl]\n",
    "        if pvals.shape[0] > 0:\n",
    "            \n",
    "            model = regressor(y, X[selected_cols+[pvals[\"Cols\"][0]]])\n",
    "            iterations_log += str(\"\\nEntered : \"+pvals[\"Cols\"][0] + \"\\n\")    \n",
    "            iterations_log += \"\\n\\n\"+str(model.summary())+\"\\nAIC: \"+ str(model.aic) + \"\\nBIC: \"+ str(model.bic)+\"\\n\\n\"\n",
    "                    \n",
    "        \n",
    "            if  elimination_criteria == \"aic\":\n",
    "                new_criteria = model.aic\n",
    "                if new_criteria < criteria:\n",
    "                    print(\"Entered :\", pvals[\"Cols\"][0], \"\\tAIC :\", model.aic)\n",
    "                    selected_cols.append(pvals[\"Cols\"][0])\n",
    "                    other_cols.remove(pvals[\"Cols\"][0])\n",
    "                    criteria = new_criteria\n",
    "                else:\n",
    "                    print(\"break : Criteria\")\n",
    "                    break\n",
    "            elif  elimination_criteria == \"bic\":\n",
    "                new_criteria = model.bic\n",
    "                if new_criteria < criteria:\n",
    "                    print(\"Entered :\", pvals[\"Cols\"][0], \"\\tBIC :\", model.bic)\n",
    "                    selected_cols.append(pvals[\"Cols\"][0])\n",
    "                    other_cols.remove(pvals[\"Cols\"][0])\n",
    "                    criteria = new_criteria\n",
    "                else:\n",
    "                    print(\"break : Criteria\")\n",
    "                    break        \n",
    "            elif  elimination_criteria == \"r2\" and model_type ==\"linear\":\n",
    "                new_criteria = model.rsquared\n",
    "                if new_criteria > criteria:\n",
    "                    print(\"Entered :\", pvals[\"Cols\"][0], \"\\tR2 :\", model.rsquared)\n",
    "                    selected_cols.append(pvals[\"Cols\"][0])\n",
    "                    other_cols.remove(pvals[\"Cols\"][0])\n",
    "                    criteria = new_criteria\n",
    "                else:\n",
    "                    print(\"break : Criteria\")\n",
    "                    break           \n",
    "            elif  elimination_criteria == \"adjr2\" and model_type ==\"linear\":\n",
    "                new_criteria = model.rsquared_adj\n",
    "                if new_criteria > criteria:\n",
    "                    print(\"Entered :\", pvals[\"Cols\"][0], \"\\tAdjR2 :\", model.rsquared_adj)\n",
    "                    selected_cols.append(pvals[\"Cols\"][0])\n",
    "                    other_cols.remove(pvals[\"Cols\"][0])\n",
    "                    criteria = new_criteria\n",
    "                else:\n",
    "                    print(\"Break : Criteria\")\n",
    "                    break\n",
    "            else:\n",
    "                print(\"Entered :\", pvals[\"Cols\"][0])\n",
    "                selected_cols.append(pvals[\"Cols\"][0])\n",
    "                other_cols.remove(pvals[\"Cols\"][0])            \n",
    "                \n",
    "        else:\n",
    "            print(\"Break : Significance Level\")\n",
    "            break\n",
    "        \n",
    "    model = regressor(y, X[selected_cols])\n",
    "    if elimination_criteria == \"aic\":\n",
    "        criteria = model.aic\n",
    "    elif elimination_criteria == \"bic\":\n",
    "        criteria = model.bic\n",
    "    elif elimination_criteria == \"r2\" and model_type ==\"linear\":\n",
    "        criteria = model.rsquared\n",
    "    elif elimination_criteria == \"adjr2\" and model_type ==\"linear\":\n",
    "        criteria = model.rsquared_adj\n",
    "    \n",
    "    print(model.summary())\n",
    "    print(\"AIC: \"+str(model.aic))\n",
    "    print(\"BIC: \"+str(model.bic))\n",
    "    print(\"Final Variables:\", selected_cols)\n",
    "\n",
    "    return selected_cols, iterations_log\n",
    "\n",
    "def __backwardSelectionRaw__(X, y, model_type =\"linear\",elimination_criteria = \"aic\", sl=0.05):\n",
    "    \n",
    "    iterations_log = \"\"\n",
    "    last_eleminated = \"\"    \n",
    "    cols = X.columns.tolist()\n",
    "\n",
    "    def regressor(y,X, model_type=model_type):\n",
    "        if model_type ==\"linear\":\n",
    "            regressor = sm.OLS(y, X).fit()\n",
    "        elif model_type == \"logistic\":\n",
    "            regressor = sm.Logit(y, X).fit()\n",
    "        else:\n",
    "            print(\"\\nWrong Model Type : \"+ model_type +\"\\nLinear model type is seleted.\")\n",
    "            model_type = \"linear\"\n",
    "            regressor = sm.OLS(y, X).fit()\n",
    "        return regressor\n",
    "    for i in range(X.shape[1]):\n",
    "        if i != 0 :          \n",
    "            if elimination_criteria == \"aic\":\n",
    "                criteria = model.aic\n",
    "                new_model = regressor(y,X)\n",
    "                new_criteria = new_model.aic\n",
    "                if criteria < new_criteria:\n",
    "                    print(\"Regained : \", last_eleminated)\n",
    "                    iterations_log += \"\\n\"+str(new_model.summary())+\"\\nAIC: \"+ str(new_model.aic) + \"\\nBIC: \"+ str(new_model.bic)+\"\\n\"\n",
    "                    iterations_log += str(\"\\n\\nRegained : \"+last_eleminated + \"\\n\\n\")\n",
    "                    break  \n",
    "            elif elimination_criteria == \"bic\":\n",
    "                criteria = model.bic\n",
    "                new_model = regressor(y,X)\n",
    "                new_criteria = new_model.bic\n",
    "                if criteria < new_criteria:\n",
    "                    print(\"Regained : \", last_eleminated)\n",
    "                    iterations_log += \"\\n\"+str(new_model.summary())+\"\\nAIC: \"+ str(new_model.aic) + \"\\nBIC: \"+ str(new_model.bic)+\"\\n\"\n",
    "                    iterations_log += str(\"\\n\\nRegained : \"+last_eleminated + \"\\n\\n\")\n",
    "                    break  \n",
    "            elif elimination_criteria == \"adjr2\" and model_type ==\"linear\":\n",
    "                criteria = model.rsquared_adj\n",
    "                new_model = regressor(y,X)\n",
    "                new_criteria = new_model.rsquared_adj\n",
    "                if criteria > new_criteria:\n",
    "                    print(\"Regained : \", last_eleminated)\n",
    "                    iterations_log += \"\\n\"+str(new_model.summary())+\"\\nAIC: \"+ str(new_model.aic) + \"\\nBIC: \"+ str(new_model.bic)+\"\\n\"\n",
    "                    iterations_log += str(\"\\n\\nRegained : \"+last_eleminated + \"\\n\\n\")\n",
    "                    break  \n",
    "            elif elimination_criteria == \"r2\" and model_type ==\"linear\":\n",
    "                criteria = model.rsquared\n",
    "                new_model = regressor(y,X)\n",
    "                new_criteria = new_model.rsquared\n",
    "                if criteria > new_criteria:\n",
    "                    print(\"Regained : \", last_eleminated)\n",
    "                    iterations_log += \"\\n\"+str(new_model.summary())+\"\\nAIC: \"+ str(new_model.aic) + \"\\nBIC: \"+ str(new_model.bic)+\"\\n\"\n",
    "                    iterations_log += str(\"\\n\\nRegained : \"+last_eleminated + \"\\n\\n\")\n",
    "                    break   \n",
    "            else: \n",
    "                new_model = regressor(y,X)\n",
    "            model = new_model\n",
    "            iterations_log += \"\\n\"+str(model.summary())+\"\\nAIC: \"+ str(model.aic) + \"\\nBIC: \"+ str(model.bic)+\"\\n\"\n",
    "        else:\n",
    "            model = regressor(y,X)\n",
    "            iterations_log += \"\\n\"+str(model.summary())+\"\\nAIC: \"+ str(model.aic) + \"\\nBIC: \"+ str(model.bic)+\"\\n\"\n",
    "        maxPval = max(model.pvalues)\n",
    "        cols = X.columns.tolist()\n",
    "        if maxPval > sl:\n",
    "            for j in cols:\n",
    "                if (model.pvalues[j] == maxPval):\n",
    "                    print(\"Eliminated :\" ,j)\n",
    "                    iterations_log += str(\"\\n\\nEliminated : \"+j+ \"\\n\\n\")\n",
    "                    \n",
    "                    del X[j]\n",
    "                    last_eleminated = j\n",
    "        else:\n",
    "            break\n",
    "    print(str(model.summary())+\"\\nAIC: \"+ str(model.aic) + \"\\nBIC: \"+ str(model.bic))\n",
    "    print(\"Final Variables:\", cols)\n",
    "    iterations_log += \"\\n\"+str(model.summary())+\"\\nAIC: \"+ str(model.aic) + \"\\nBIC: \"+ str(model.bic)+\"\\n\"\n",
    "    return cols, iterations_log"
   ]
  },
  {
   "cell_type": "code",
   "execution_count": 64,
   "metadata": {
    "ExecuteTime": {
     "end_time": "2020-10-08T21:52:30.027480Z",
     "start_time": "2020-10-08T21:52:29.945470Z"
    }
   },
   "outputs": [
    {
     "name": "stdout",
     "output_type": "stream",
     "text": [
      "                            OLS Regression Results                            \n",
      "==============================================================================\n",
      "Dep. Variable:       AVG_MATH_8_SCORE   R-squared:                       0.503\n",
      "Model:                            OLS   Adj. R-squared:                  0.495\n",
      "Method:                 Least Squares   F-statistic:                     62.23\n",
      "Date:                Thu, 08 Oct 2020   Prob (F-statistic):           1.62e-61\n",
      "Time:                        17:52:29   Log-Likelihood:                -1483.7\n",
      "No. Observations:                 439   AIC:                             2983.\n",
      "Df Residuals:                     431   BIC:                             3016.\n",
      "Df Model:                           7                                         \n",
      "Covariance Type:            nonrobust                                         \n",
      "=================================================================================\n",
      "                    coef    std err          t      P>|t|      [0.025      0.975]\n",
      "---------------------------------------------------------------------------------\n",
      "const         -1295.7205    148.718     -8.713      0.000   -1588.023   -1003.418\n",
      "Tot_exp/stdnt     4.0698      0.765      5.320      0.000       2.566       5.573\n",
      "enroll8/total   529.7702     93.652      5.657      0.000     345.699     713.842\n",
      "fedrev/tot       -5.7123      1.086     -5.261      0.000      -7.846      -3.578\n",
      "instexp/tot      -1.9800      0.922     -2.149      0.032      -3.791      -0.169\n",
      "supserexp/tot    -5.9754      1.131     -5.285      0.000      -8.198      -3.753\n",
      "capexp/tot       -3.1575      0.943     -3.349      0.001      -5.010      -1.305\n",
      "YEAR              0.7624      0.075     10.231      0.000       0.616       0.909\n",
      "==============================================================================\n",
      "Omnibus:                        6.381   Durbin-Watson:                   1.945\n",
      "Prob(Omnibus):                  0.041   Jarque-Bera (JB):                6.513\n",
      "Skew:                          -0.284   Prob(JB):                       0.0385\n",
      "Kurtosis:                       2.815   Cond. No.                     8.73e+05\n",
      "==============================================================================\n",
      "\n",
      "Warnings:\n",
      "[1] Standard Errors assume that the covariance matrix of the errors is correctly specified.\n",
      "[2] The condition number is large, 8.73e+05. This might indicate that there are\n",
      "strong multicollinearity or other numerical problems.\n"
     ]
    }
   ],
   "source": [
    "# From the above generated Summary of Ordinary least squares, we can see that \n",
    "# Total revenue per student is very insignificant as it has high p value == 0.5\n",
    "# Similarly, federal , state and local revenues have the same effect with high p value\n",
    "# In the below, we select the features which have p value less than 0.5\n",
    "# and ceate our model.\n",
    "#X = df[['Tot_exp/stdnt', 'enroll8/total', 'supserexp/tot','capexp/tot', 'instexp/tot', 'othexp/tot','YEAR']].dropna()\n",
    "X = df[['Tot_exp/stdnt', 'enroll8/total', 'fedrev/tot', 'instexp/tot', 'supserexp/tot', 'capexp/tot', 'YEAR']].dropna()\n",
    "#X = df[['TOTAL_EXPENDITURE', 'ENROLL_8', 'SUPPORT_SERVICES_EXPENDITURE','CAPITAL_OUTLAY_EXPENDITURE','YEAR']].dropna()\n",
    "y = df.loc[X.index]['AVG_MATH_8_SCORE']\n",
    "\n",
    "X = sm.add_constant(X)\n",
    "model = sm.OLS(y, X)\n",
    "results = model.fit()\n",
    "print(results.summary())"
   ]
  },
  {
   "cell_type": "code",
   "execution_count": 62,
   "metadata": {
    "ExecuteTime": {
     "end_time": "2020-10-08T21:51:25.733044Z",
     "start_time": "2020-10-08T21:51:24.732954Z"
    }
   },
   "outputs": [
    {
     "data": {
      "text/plain": [
       "<matplotlib.axes._subplots.AxesSubplot at 0x7f52381f6890>"
      ]
     },
     "execution_count": 62,
     "metadata": {},
     "output_type": "execute_result"
    },
    {
     "data": {
      "image/png": "[encoded data removed]",
      "text/plain": [
       "<Figure size 720x576 with 2 Axes>"
      ]
     },
     "metadata": {
      "needs_background": "light"
     },
     "output_type": "display_data"
    }
   ],
   "source": [
    "# Looking at the corelation of the predictiors to see if we can reduce the model complexity, but if we try to remove the intexp and supexp \n",
    "# we shall tradeoff on error.\n",
    "plt.figure(figsize=(10,8))\n",
    "cov = X.corr()\n",
    "sns.heatmap(cov,annot=True)"
   ]
  },
  {
   "cell_type": "markdown",
   "metadata": {},
   "source": [
    "<h2> Prediction </h2>"
   ]
  },
  {
   "cell_type": "code",
   "execution_count": 65,
   "metadata": {
    "ExecuteTime": {
     "end_time": "2020-10-08T21:53:55.638833Z",
     "start_time": "2020-10-08T21:53:55.623868Z"
    }
   },
   "outputs": [],
   "source": [
    "# Splitting the final set of features into Test & Train\n",
    "X_train, X_test, y_train, y_test = train_test_split(\n",
    "     X, y, test_size=0.33, random_state=0)"
   ]
  },
  {
   "cell_type": "markdown",
   "metadata": {},
   "source": [
    "Chosen ML task: **REGRESSION**"
   ]
  },
  {
   "cell_type": "code",
   "execution_count": 66,
   "metadata": {
    "ExecuteTime": {
     "end_time": "2020-10-08T21:53:57.081717Z",
     "start_time": "2020-10-08T21:53:57.074294Z"
    }
   },
   "outputs": [],
   "source": [
    "# import your sklearn class here\n",
    "from sklearn.linear_model import LinearRegression"
   ]
  },
  {
   "cell_type": "code",
   "execution_count": 67,
   "metadata": {
    "ExecuteTime": {
     "end_time": "2020-10-08T21:53:57.865574Z",
     "start_time": "2020-10-08T21:53:57.859231Z"
    }
   },
   "outputs": [],
   "source": [
    "# create your model here\n",
    "model = LinearRegression()"
   ]
  },
  {
   "cell_type": "code",
   "execution_count": 68,
   "metadata": {
    "ExecuteTime": {
     "end_time": "2020-10-08T21:53:58.543901Z",
     "start_time": "2020-10-08T21:53:58.503344Z"
    }
   },
   "outputs": [
    {
     "data": {
      "text/plain": [
       "LinearRegression(copy_X=True, fit_intercept=True, n_jobs=None, normalize=False)"
      ]
     },
     "execution_count": 68,
     "metadata": {},
     "output_type": "execute_result"
    }
   ],
   "source": [
    "# Fitting the mode onto our training data\n",
    "model.fit(X_train, y_train)"
   ]
  },
  {
   "cell_type": "code",
   "execution_count": 69,
   "metadata": {
    "ExecuteTime": {
     "end_time": "2020-10-08T21:53:59.605777Z",
     "start_time": "2020-10-08T21:53:59.594449Z"
    }
   },
   "outputs": [],
   "source": [
    "# predicting \n",
    "y_pred = model.predict(X_test)"
   ]
  },
  {
   "cell_type": "code",
   "execution_count": 70,
   "metadata": {
    "ExecuteTime": {
     "end_time": "2020-10-08T21:54:00.641278Z",
     "start_time": "2020-10-08T21:54:00.630496Z"
    }
   },
   "outputs": [
    {
     "name": "stdout",
     "output_type": "stream",
     "text": [
      "-1103.8837460247512\n",
      "[  0.           4.17509061 504.57491863  -5.78217859  -2.37176579\n",
      "  -5.72488652  -3.27562395   0.6680165 ]\n"
     ]
    }
   ],
   "source": [
    "# Looking at the model intercepts & coeffecients\n",
    "print(model.intercept_)\n",
    "print(model.coef_)"
   ]
  },
  {
   "cell_type": "code",
   "execution_count": 71,
   "metadata": {
    "ExecuteTime": {
     "end_time": "2020-10-08T21:54:01.669481Z",
     "start_time": "2020-10-08T21:54:01.651397Z"
    }
   },
   "outputs": [
    {
     "data": {
      "text/plain": [
       "0.5441649315965988"
      ]
     },
     "execution_count": 71,
     "metadata": {},
     "output_type": "execute_result"
    }
   ],
   "source": [
    "# R**2 value describes how well a linear model fits the data\n",
    "model.score(X_test, y_test)"
   ]
  },
  {
   "cell_type": "code",
   "execution_count": 72,
   "metadata": {
    "ExecuteTime": {
     "end_time": "2020-10-08T21:54:03.176940Z",
     "start_time": "2020-10-08T21:54:03.162409Z"
    }
   },
   "outputs": [
    {
     "data": {
      "text/plain": [
       "0.36360088317597916"
      ]
     },
     "execution_count": 72,
     "metadata": {},
     "output_type": "execute_result"
    }
   ],
   "source": [
    "# mean error\n",
    "np.mean(model.predict(X_test)-y_test)"
   ]
  },
  {
   "cell_type": "code",
   "execution_count": 77,
   "metadata": {
    "ExecuteTime": {
     "end_time": "2020-10-08T21:54:54.342973Z",
     "start_time": "2020-10-08T21:54:53.739852Z"
    }
   },
   "outputs": [
    {
     "data": {
      "text/plain": [
       "Text(0, 0.5, 'MAth 8 Scores')"
      ]
     },
     "execution_count": 77,
     "metadata": {},
     "output_type": "execute_result"
    },
    {
     "data": {
      "image/png": "[encoded data removed]",
      "text/plain": [
       "<Figure size 864x432 with 1 Axes>"
      ]
     },
     "metadata": {
      "needs_background": "light"
     },
     "output_type": "display_data"
    }
   ],
   "source": [
    "# for regression: (pick a single column to visualize results)\n",
    "\n",
    "# Results from this graph _should not_ be used as a part of your results -- it is just here to help with intuition. \n",
    "# Instead, look at the error values and individual intercepts.\n",
    "\n",
    " \n",
    "col_name = 'YEAR'\n",
    "col_index = X_train.columns.get_loc(col_name)\n",
    "\n",
    "f = plt.figure(figsize=(12,6))\n",
    "plt.scatter(X_train[col_name], y_train, color = \"red\")\n",
    "plt.scatter(X_train[col_name], model.predict(X_train), color = \"green\")\n",
    "plt.scatter(X_test[col_name], model.predict(X_test), color = \"blue\")\n",
    "\n",
    "new_x = np.linspace(X_train[col_name].min(),X_train[col_name].max(),200)\n",
    "intercept = model.predict([X_train.sort_values(col_name).iloc[0]]) - X_train[col_name].min()*model.coef_[col_index]\n",
    "plt.plot(new_x, intercept+new_x*model.coef_[col_index])\n",
    "\n",
    "plt.legend(['controlled model','true training','predicted training','predicted testing'])\n",
    "plt.xlabel(col_name)\n",
    "plt.ylabel('MAth 8 Scores')"
   ]
  },
  {
   "cell_type": "markdown",
   "metadata": {},
   "source": [
    "<h2> Summary </h2>"
   ]
  },
  {
   "cell_type": "markdown",
   "metadata": {},
   "source": [
    "**It is clear form the initial analysis of OLS that the performance of students in MAth is not dependent on the Revenue generated in any level. It depends upon the expendeture, the year and total enrollments. Interestingly the expenditure has a negative effect on the performance where as the total expendeture has a positive effect. The Model is highly dependent on the enrollments as its coeffecient value is very high compared to other features as well year also plays an important part for predicting the performance. Overall, though this model is only able to define the 51% of the variability associated with the performance, the remining 49% percent is still unknown. This might be either due to a large number of missing values which brings down the training & testing data to 600 rows.**"
   ]
  },
  {
   "cell_type": "code",
   "execution_count": null,
   "metadata": {},
   "outputs": [],
   "source": []
  }
 ],
 "metadata": {
  "kernelspec": {
   "display_name": "Python 3",
   "language": "python",
   "name": "python3"
  },
  "language_info": {
   "codemirror_mode": {
    "name": "ipython",
    "version": 3
   },
   "file_extension": ".py",
   "mimetype": "text/x-python",
   "name": "python",
   "nbconvert_exporter": "python",
   "pygments_lexer": "ipython3",
   "version": "3.7.4"
  },
  "toc": {
   "base_numbering": 1,
   "nav_menu": {},
   "number_sections": true,
   "sideBar": true,
   "skip_h1_title": false,
   "title_cell": "Table of Contents",
   "title_sidebar": "Contents",
   "toc_cell": false,
   "toc_position": {},
   "toc_section_display": true,
   "toc_window_display": true
  }
 },
 "nbformat": 4,
 "nbformat_minor": 4
}
